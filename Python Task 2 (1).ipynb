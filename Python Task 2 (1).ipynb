{
 "cells": [
  {
   "cell_type": "markdown",
   "id": "ea245036-8e66-4932-8a70-aa84acde48f4",
   "metadata": {},
   "source": [
    "# Ques 1\n",
    "Q1. You are writing code for a company. The requirement of the company is that you create a python\n",
    "function that will check whether the password entered by the user is correct or not. The function should\n",
    "take the password as input and return the string “Valid Password” if the entered password follows the\n",
    "below-given password guidelines else it should return “Invalid Password”. <br>\n",
    "Note: \n",
    "1. The Password should contain at least two uppercase letters and at least two lowercase letters.\n",
    "2. The Password should contain at least a number and three special characters.\n",
    "3. The length of the password should be 10 characters long."
   ]
  },
  {
   "cell_type": "code",
   "execution_count": 1,
   "id": "71cf01e1-b9ff-4e5f-95b7-e19ee1931762",
   "metadata": {},
   "outputs": [],
   "source": [
    "def passwordChecker(password):\n",
    "    length = len(password)\n",
    "    number = 0\n",
    "    upper = 0\n",
    "    lower = 0\n",
    "    special = 0\n",
    "    \n",
    "    if length != 10:\n",
    "        return 'Invalid Password'\n",
    "    \n",
    "    for char in password:\n",
    "        if ord(char) >= 65 and ord(char) <= 90:\n",
    "            upper += 1\n",
    "        elif ord(char) >= 97 and ord(char) <= 122:\n",
    "            lower += 1\n",
    "        elif char.isdigit():\n",
    "            number += 1\n",
    "        else:\n",
    "            special += 1\n",
    "\n",
    "        if ((upper >= 2) and (lower >= 2) and (special >= 3) and (number >= 1)):\n",
    "            return 'Valid Password'\n",
    "        \n",
    "    return 'Invalid Password'\n",
    "    "
   ]
  },
  {
   "cell_type": "code",
   "execution_count": 2,
   "id": "e78cf788-b3d4-4113-b8a7-39cabf4c5593",
   "metadata": {},
   "outputs": [
    {
     "name": "stdin",
     "output_type": "stream",
     "text": [
      "Enter The Password ABab123$@*\n"
     ]
    },
    {
     "name": "stdout",
     "output_type": "stream",
     "text": [
      "Password Entered by you is = ABab123$@*\n",
      "Valid Password\n"
     ]
    }
   ],
   "source": [
    "password = input('Enter The Password')\n",
    "print('Password Entered by you is = ' + password)\n",
    "print(passwordChecker(password))"
   ]
  },
  {
   "cell_type": "markdown",
   "id": "b9fb47b9-ba3d-46d3-93b5-cec3b7c93df8",
   "metadata": {},
   "source": [
    "# Ques 2"
   ]
  },
  {
   "cell_type": "code",
   "execution_count": 10,
   "id": "9dd875d8-8db6-49ea-b65a-4c9326949e6e",
   "metadata": {},
   "outputs": [
    {
     "name": "stdin",
     "output_type": "stream",
     "text": [
      "Enter the string Himanshu\n",
      "Enter the checker character H\n"
     ]
    },
    {
     "name": "stdout",
     "output_type": "stream",
     "text": [
      "String = Himanshu\n",
      "Character  H\n",
      "Yes\n"
     ]
    }
   ],
   "source": [
    "string = input('Enter the string')\n",
    "char = input('Enter the checker character')\n",
    "print('String =' ,  string)\n",
    "print('Character ' , char)\n",
    "if s[0] == char:\n",
    "    print('Yes')\n",
    "else :\n",
    "    print('No')"
   ]
  },
  {
   "cell_type": "code",
   "execution_count": 12,
   "id": "0ccf4fec-cb50-4f51-b2b0-739f23c12cd1",
   "metadata": {},
   "outputs": [
    {
     "name": "stdin",
     "output_type": "stream",
     "text": [
      "Enter the string H13e\n"
     ]
    },
    {
     "name": "stdout",
     "output_type": "stream",
     "text": [
      "String = H13e\n",
      "No\n"
     ]
    }
   ],
   "source": [
    "string = input('Enter the string')\n",
    "print('String =' , string)\n",
    "if(string.isnumeric()):\n",
    "    print('Yes')\n",
    "else:\n",
    "    print('No')"
   ]
  },
  {
   "cell_type": "code",
   "execution_count": 15,
   "id": "71dde478-cde6-4db8-b2ec-149d11daa724",
   "metadata": {},
   "outputs": [
    {
     "name": "stdout",
     "output_type": "stream",
     "text": [
      "based on names [('grapes', 1000), ('mango', 99), ('orange', 80)]\n",
      "based on quenatity [('orange', 80), ('mango', 99), ('grapes', 1000)]\n"
     ]
    }
   ],
   "source": [
    "li = [(\"mango\",99),(\"orange\",80), (\"grapes\", 1000)]\n",
    "li.sort()\n",
    "print('based on names',li) \n",
    "\n",
    "li.sort(key = lambda x : x[1])\n",
    "print('based on quenatity' , li)"
   ]
  },
  {
   "cell_type": "code",
   "execution_count": 19,
   "id": "794b4fe7-2156-46c0-b874-3132ac341a69",
   "metadata": {},
   "outputs": [
    {
     "name": "stdout",
     "output_type": "stream",
     "text": [
      "Normal List [1, 2, 3, 4, 5, 6, 7, 8, 9, 10]\n",
      "Squared List [1, 4, 9, 16, 25, 36, 49, 64, 81, 100]\n"
     ]
    }
   ],
   "source": [
    "li = list(range(1,11))\n",
    "ans = list(map(lambda x: x ** 2 , li))\n",
    "\n",
    "print('Normal List' , li)\n",
    "print('Squared List' , ans)"
   ]
  },
  {
   "cell_type": "code",
   "execution_count": 20,
   "id": "3376d85a-b8c4-4ac3-bf63-9f0188e4934c",
   "metadata": {},
   "outputs": [
    {
     "name": "stdout",
     "output_type": "stream",
     "text": [
      "Normal List [1, 2, 3, 4, 5, 6, 7, 8, 9, 10]\n",
      "Squared List [1.0, 1.2599210498948732, 1.4422495703074083, 1.5874010519681994, 1.7099759466766968, 1.8171205928321397, 1.912931182772389, 2.0, 2.080083823051904, 2.154434690031884]\n"
     ]
    }
   ],
   "source": [
    "li = list(range(1,11))\n",
    "ans = list(map(lambda x: x ** (1/3) , li))\n",
    "\n",
    "print('Normal List' , li)\n",
    "print('Squared List' , ans)"
   ]
  },
  {
   "cell_type": "code",
   "execution_count": 21,
   "id": "1223af84-32d4-4a01-9601-48fa58cbc84b",
   "metadata": {},
   "outputs": [
    {
     "name": "stdin",
     "output_type": "stream",
     "text": [
      "Enter the list of numbers in space seprated form 1 2 3 4 5 6 7 8 9 10\n"
     ]
    },
    {
     "name": "stdout",
     "output_type": "stream",
     "text": [
      "Normal List [1, 2, 3, 4, 5, 6, 7, 8, 9, 10]\n",
      "Even Number List [2, 4, 6, 8, 10]\n"
     ]
    }
   ],
   "source": [
    "li = [int(i) for i in input('Enter the list of numbers in space seprated form').split()]\n",
    "ans = list(filter(lambda x: x % 2 == 0 , li))\n",
    "\n",
    "print('Normal List' , li)\n",
    "print('Even Number List' , ans)"
   ]
  },
  {
   "cell_type": "code",
   "execution_count": 22,
   "id": "774a2fc7-ec78-413f-87ed-c3b4fa969f09",
   "metadata": {},
   "outputs": [
    {
     "name": "stdout",
     "output_type": "stream",
     "text": [
      "Normal List [1, 2, 3, 4, 5, 6, 7, 8, 9, 10]\n",
      "Odd Number List [1, 3, 5, 7, 9]\n"
     ]
    }
   ],
   "source": [
    "li = [1,2,3,4,5,6,7,8,9,10]\n",
    "ans = list(filter(lambda x: x % 2 != 0 , li))\n",
    "\n",
    "print('Normal List' , li)\n",
    "print('Odd Number List' , ans)"
   ]
  },
  {
   "cell_type": "code",
   "execution_count": 23,
   "id": "4b440e25-20e2-4615-9bdb-f953b77e902b",
   "metadata": {},
   "outputs": [
    {
     "name": "stdout",
     "output_type": "stream",
     "text": [
      "Normal List [1, 2, 3, 4, 5, 6, -1, -2, -3, -4, -5, 0]\n",
      "Positive List [1, 2, 3, 4, 5, 6, 0]\n",
      "Negative List [-1, -2, -3, -4, -5]\n"
     ]
    }
   ],
   "source": [
    "li = [1,2,3,4,5,6,-1,-2,-3,-4,-5,0]\n",
    "positive = list(filter(lambda x: x >= 0 , li))\n",
    "negative = list(filter(lambda x: x < 0 , li))\n",
    "\n",
    "print('Normal List' , li)\n",
    "print('Positive List' , positive)\n",
    "print('Negative List' , negative)"
   ]
  }
 ],
 "metadata": {
  "kernelspec": {
   "display_name": "Python 3 (ipykernel)",
   "language": "python",
   "name": "python3"
  },
  "language_info": {
   "codemirror_mode": {
    "name": "ipython",
    "version": 3
   },
   "file_extension": ".py",
   "mimetype": "text/x-python",
   "name": "python",
   "nbconvert_exporter": "python",
   "pygments_lexer": "ipython3",
   "version": "3.10.8"
  }
 },
 "nbformat": 4,
 "nbformat_minor": 5
}
